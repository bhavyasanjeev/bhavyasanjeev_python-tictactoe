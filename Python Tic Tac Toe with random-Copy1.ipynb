{
 "cells": [
  {
   "cell_type": "markdown",
   "metadata": {
    "hide_input": true
   },
   "source": [
    "# Python - Tic Tac Toe"
   ]
  },
  {
   "cell_type": "markdown",
   "metadata": {},
   "source": [
    "Code may be developed in Jupyter Notebooks."
   ]
  },
  {
   "cell_type": "markdown",
   "metadata": {},
   "source": [
    "![alt text](https://www.cookieshq.co.uk/images/2016/06/01/tic-tac-toe.png \"Tic Tac Toe\")"
   ]
  },
  {
   "cell_type": "markdown",
   "metadata": {},
   "source": [
    "### Rules of the game:\n",
    "* Choose a symbol, ‘O’, or ‘X’.\n",
    "* Take turns to place your symbol on the grid.\n",
    "* The first player to get a horizontal, diagonal or vertical line of 3 symbols, wins.\n",
    "\n"
   ]
  },
  {
   "cell_type": "code",
   "execution_count": 1,
   "metadata": {},
   "outputs": [
    {
     "name": "stdout",
     "output_type": "stream",
     "text": [
      "\t|\t|\t\n",
      "   7\t|   8\t|   9\n",
      "\t|\t|\t\n",
      "-------------------------\n",
      "\t|\t|\t\n",
      "   4\t|   5\t|   6\n",
      "\t|\t|\t\n",
      "-------------------------\n",
      "\t|\t|\t\n",
      "   1\t|   2\t|   3\n",
      "\t|\t|\t\n",
      "\n",
      "=================================================================\n",
      "\n",
      "\t|\t|\t\n",
      "\t|\t|\t\n",
      "\t|\t|\t\n",
      "-------------------------\n",
      "\t|\t|\t\n",
      "\t|\t|\t\n",
      "\t|\t|\t\n",
      "-------------------------\n",
      "\t|\t|\t\n",
      "\t|\t|\t\n",
      "\t|\t|\t\n",
      "Will you be 'X', or 'O'? x\n",
      "You are 'X'\n"
     ]
    },
    {
     "data": {
      "text/plain": [
       "'You start!'"
      ]
     },
     "execution_count": 1,
     "metadata": {},
     "output_type": "execute_result"
    }
   ],
   "source": [
    "#code\n",
    "# UI\n",
    "playermove = []\n",
    "#no grid needed, use list index\n",
    "def tutgrid():\n",
    "    # This draws a grid\n",
    "    print('\\t|\\t|\\t\\n   {}\\t|   {}\\t|   {}\\n\\t|\\t|\\t'.format(7,8,9))\n",
    "    print(\"-------------------------\")\n",
    "    print('\\t|\\t|\\t\\n   {}\\t|   {}\\t|   {}\\n\\t|\\t|\\t'.format(4,5,6))\n",
    "    print(\"-------------------------\")\n",
    "    print('\\t|\\t|\\t\\n   {}\\t|   {}\\t|   {}\\n\\t|\\t|\\t'.format(1,2,3))\n",
    "tutgrid()  \n",
    "\n",
    "print(\"\\n=================================================================\\n\")\n",
    "    \n",
    "def drawgrid():\n",
    "    # This draws a grid\n",
    "    for i in range (2):\n",
    "        print('\\t|\\t|\\t\\n\\t|\\t|\\t\\n\\t|\\t|\\t')\n",
    "        print(\"-------------------------\")\n",
    "    print('\\t|\\t|\\t\\n\\t|\\t|\\t\\n\\t|\\t|\\t')\n",
    "drawgrid()\n",
    "\n",
    "def choosesymbol():\n",
    "    #character that isn't 'o' or 'x'\n",
    "    symbol = \"p\"\n",
    "    while symbol not in 'XO':\n",
    "        symbol = (input(\"Will you be \\'X\\', or \\'O\\'? \")).upper()\n",
    "        if symbol not in 'XO':\n",
    "            print(\"Invalid input: Please try again.\")\n",
    "    if symbol == 'X':\n",
    "        print('You are \\'{}\\''.format(symbol))\n",
    "        #check which symbol the player is\n",
    "        return ['X', 'O']\n",
    "    else:\n",
    "        print('You are \\'{}\\''.format(symbol))\n",
    "        return ['O', 'X']\n",
    "    \n",
    "    print('You are \\'{}\\''.format(symbol))\n",
    "\n",
    "import random\n",
    "def whostart():\n",
    "    start = random.choice([0,1])\n",
    "    if start == 1:\n",
    "        return (\"You start!\")\n",
    "    else:\n",
    "        return(\"Computer starts!\")\n",
    "\n",
    "choosesymbol()\n",
    "whostart()\n",
    "\n",
    "\n",
    "#=====================================\n",
    "\n"
   ]
  },
  {
   "cell_type": "code",
   "execution_count": 34,
   "metadata": {},
   "outputs": [],
   "source": [
    "usermoves = []\n",
    "compmoves = []\n",
    "boardrecord = []"
   ]
  },
  {
   "cell_type": "code",
   "execution_count": 19,
   "metadata": {},
   "outputs": [
    {
     "name": "stdout",
     "output_type": "stream",
     "text": [
      "Where will you place your symbol?8\n"
     ]
    },
    {
     "data": {
      "text/plain": [
       "[9, 6, 9, 7, 8]"
      ]
     },
     "execution_count": 19,
     "metadata": {},
     "output_type": "execute_result"
    }
   ],
   "source": [
    "def usermove():\n",
    "    move = 10\n",
    "    while (move > 9) and (move not in compmoves):\n",
    "        move = int(input(\"Where will you place your symbol?\"))\n",
    "    usermoves.append(move)\n",
    "    return usermoves\n",
    "\n",
    "def compmove():\n",
    "    choices = [1,2,3,4,5,6,7,8,9]\n",
    "    print(random.choice(choices))\n",
    "    move2 = 0\n",
    "    while move2 not in usermoves:\n",
    "        move2 = random.choice(choices)\n",
    "    compmoves.append(move2)\n",
    "    return compmoves\n",
    "    \n",
    "    \n",
    "usermove()\n",
    "#compmove()"
   ]
  },
  {
   "cell_type": "code",
   "execution_count": 33,
   "metadata": {},
   "outputs": [
    {
     "name": "stdout",
     "output_type": "stream",
     "text": [
      "8\n"
     ]
    },
    {
     "data": {
      "text/plain": [
       "[9, 6, 9, 7, 9, 6, 7, 6, 7, 8, 7, 7, 7, 8, 7, 7, 8, 9, 8, 9, 7, 8]"
      ]
     },
     "execution_count": 33,
     "metadata": {},
     "output_type": "execute_result"
    }
   ],
   "source": [
    "compmove()"
   ]
  },
  {
   "cell_type": "code",
   "execution_count": 1,
   "metadata": {},
   "outputs": [
    {
     "ename": "NameError",
     "evalue": "name 're' is not defined",
     "output_type": "error",
     "traceback": [
      "\u001b[0;31m---------------------------------------------------------------------------\u001b[0m",
      "\u001b[0;31mNameError\u001b[0m                                 Traceback (most recent call last)",
      "\u001b[0;32m<ipython-input-1-cc9dba4a60f2>\u001b[0m in \u001b[0;36m<module>\u001b[0;34m()\u001b[0m\n\u001b[1;32m      2\u001b[0m     \u001b[0;32mimport\u001b[0m \u001b[0minspect\u001b[0m\u001b[0;34m\u001b[0m\u001b[0m\n\u001b[1;32m      3\u001b[0m     \u001b[0mget_ipython\u001b[0m\u001b[0;34m(\u001b[0m\u001b[0;34m)\u001b[0m\u001b[0;34m.\u001b[0m\u001b[0mset_next_input\u001b[0m\u001b[0;34m(\u001b[0m\u001b[0;34m\"\"\u001b[0m\u001b[0;34m.\u001b[0m\u001b[0mjoin\u001b[0m\u001b[0;34m(\u001b[0m\u001b[0minspect\u001b[0m\u001b[0;34m.\u001b[0m\u001b[0mgetsourcelines\u001b[0m\u001b[0;34m(\u001b[0m\u001b[0mfunction\u001b[0m\u001b[0;34m)\u001b[0m\u001b[0;34m[\u001b[0m\u001b[0;36m0\u001b[0m\u001b[0;34m]\u001b[0m\u001b[0;34m)\u001b[0m\u001b[0;34m)\u001b[0m\u001b[0;34m\u001b[0m\u001b[0m\n\u001b[0;32m----> 4\u001b[0;31m \u001b[0mre\u001b[0m\u001b[0;34m\u001b[0m\u001b[0m\n\u001b[0m",
      "\u001b[0;31mNameError\u001b[0m: name 're' is not defined"
     ]
    }
   ],
   "source": [
    "def rescue_code(function):\n",
    "    import inspect\n",
    "    get_ipython().set_next_input(\"\".join(inspect.getsourcelines(function)[0]))\n",
    "re"
   ]
  },
  {
   "cell_type": "code",
   "execution_count": null,
   "metadata": {},
   "outputs": [],
   "source": []
  },
  {
   "cell_type": "markdown",
   "metadata": {},
   "source": [
    "# -----------------------------------------------------\n",
    "# Cleaner code"
   ]
  },
  {
   "cell_type": "code",
   "execution_count": 108,
   "metadata": {},
   "outputs": [
    {
     "name": "stdout",
     "output_type": "stream",
     "text": [
      "\t|\t|\t\n",
      "   7\t|   8\t|   9\n",
      "\t|\t|\t\n",
      "-------------------------\n",
      "\t|\t|\t\n",
      "   4\t|   5\t|   6\n",
      "\t|\t|\t\n",
      "-------------------------\n",
      "\t|\t|\t\n",
      "   1\t|   2\t|   3\n",
      "\t|\t|\t\n",
      "Will you be 'X', or 'O'? x\n",
      "You are 'X'.\n",
      "The computer is 'O'.\n"
     ]
    }
   ],
   "source": [
    "#=========== DEFINING FUNCTIONS ==============\n",
    "# UI\n",
    "#Make empty list for board     0   1   2   3   4   5   6   7   8\n",
    "#board = [' '*9] # index 0-8, [' ',' ',' ',' ',' ',' ',' ',' ',' ']\n",
    "\n",
    "board = [' ',' ',' ',' ',' ',' ',' ',' ',' ']\n",
    "#print (board)\n",
    "\n",
    "#no grid needed, use list index\n",
    "def tutgrid():\n",
    "    # This draws a grid\n",
    "    print('\\t|\\t|\\t\\n   {}\\t|   {}\\t|   {}\\n\\t|\\t|\\t'.format(7,8,9))\n",
    "    print(\"-------------------------\")\n",
    "    print('\\t|\\t|\\t\\n   {}\\t|   {}\\t|   {}\\n\\t|\\t|\\t'.format(4,5,6))\n",
    "    print(\"-------------------------\")\n",
    "    print('\\t|\\t|\\t\\n   {}\\t|   {}\\t|   {}\\n\\t|\\t|\\t'.format(1,2,3))\n",
    "tutgrid() \n",
    "\n",
    "\n",
    "# TEST FOR FORMAT OF REAL GRID\n",
    "#boardex = ['X',' ','X','O','X','X','O','X',' ']\n",
    "\n",
    "# GRID\n",
    "#This is the function that draws a grid using the board list\n",
    "def realgrid():\n",
    "    # This draws a grid\n",
    "    print('\\t|\\t|\\t\\n   {}\\t|   {}\\t|   {}\\n\\t|\\t|\\t'.format(board[6],board[7],board[8]))\n",
    "    print(\"-------------------------\")\n",
    "    print('\\t|\\t|\\t\\n   {}\\t|   {}\\t|   {}\\n\\t|\\t|\\t'.format(board[3],board[4],board[5]))\n",
    "    print(\"-------------------------\")\n",
    "    print('\\t|\\t|\\t\\n   {}\\t|   {}\\t|   {}\\n\\t|\\t|\\t'.format(board[0],board[1],board[2])) \n",
    "\n",
    "\n",
    "# USER INTERACT\n",
    "def choosesymbol():\n",
    "    #character that isn't 'o' or 'x'\n",
    "    symbol = \"p\"\n",
    "    while symbol not in 'XO':\n",
    "        symbol = (input(\"Will you be \\'X\\', or \\'O\\'? \")).upper()\n",
    "        if symbol not in 'XO':\n",
    "            print(\"Invalid input: Please try again.\")\n",
    "    if symbol == 'X':\n",
    "        compsymbol = 'O'\n",
    "        #check which symbol the player is\n",
    "    else:\n",
    "        compsymbol = 'X'\n",
    "    return [symbol, compsymbol]\n",
    "\n",
    "#================ CODE ==========\n",
    "#code that must follow choosesymbol()\n",
    "thesymbols = choosesymbol()\n",
    "# playersymbol and compsymbol must be used here\n",
    "playersymbol = thesymbols[0]\n",
    "compsymbol = thesymbols[1]\n",
    "print('You are \\'{}\\'.\\nThe computer is \\'{}\\'.'.format(playersymbol, compsymbol))\n",
    "#choose symbol"
   ]
  },
  {
   "cell_type": "code",
   "execution_count": 121,
   "metadata": {},
   "outputs": [
    {
     "name": "stdout",
     "output_type": "stream",
     "text": [
      "Player goes first.\n"
     ]
    }
   ],
   "source": [
    "import random\n",
    "def chooseplayer():\n",
    "    whofirst = random.choice(['Player', 'Computer'])\n",
    "    return whofirst\n",
    "whofirst = chooseplayer()\n",
    "print (\"{} goes first.\".format(whofirst))\n",
    "# whofirst holds value of starting player."
   ]
  },
  {
   "cell_type": "code",
   "execution_count": 162,
   "metadata": {},
   "outputs": [
    {
     "name": "stdout",
     "output_type": "stream",
     "text": [
      "[' ', ' ', ' ', ' ', ' ', ' ', ' ', ' ', ' ']\n"
     ]
    }
   ],
   "source": [
    "board = [' ',' ',' ',' ',' ',' ',' ',' ',' ']\n",
    "#board = [' ',' ',' ','O',' ','X',' ','X',' ']\n",
    "print (board)"
   ]
  },
  {
   "cell_type": "code",
   "execution_count": 111,
   "metadata": {},
   "outputs": [
    {
     "name": "stdout",
     "output_type": "stream",
     "text": [
      "6\n"
     ]
    }
   ],
   "source": [
    "symlocat = random.randint(1,9)\n",
    "print (symlocat-1)"
   ]
  },
  {
   "cell_type": "code",
   "execution_count": 135,
   "metadata": {},
   "outputs": [
    {
     "name": "stdout",
     "output_type": "stream",
     "text": [
      "\t|\t|\t\n",
      "    \t|    \t|    \n",
      "\t|\t|\t\n",
      "-------------------------\n",
      "\t|\t|\t\n",
      "    \t|    \t|    \n",
      "\t|\t|\t\n",
      "-------------------------\n",
      "\t|\t|\t\n",
      "    \t|    \t|    \n",
      "\t|\t|\t\n"
     ]
    }
   ],
   "source": [
    "symlocat = 1\n",
    "if whofirst == 'player'\n",
    "    \n",
    "if board[symlocat-1] == ' ':\n",
    "while board[symlocat-1] != ' ':\n",
    "    symlocat = int(input(\"Pick where you want to place you symbol (1-9)\"))\n",
    "    board[symlocat-1] = playersymbol\n",
    "realgrid()"
   ]
  },
  {
   "cell_type": "code",
   "execution_count": 158,
   "metadata": {
    "scrolled": true
   },
   "outputs": [
    {
     "name": "stdout",
     "output_type": "stream",
     "text": [
      "Pick where you want to place your symbol (1-9)1\n",
      "\t|\t|\t\n",
      "    \t|    \t|    \n",
      "\t|\t|\t\n",
      "-------------------------\n",
      "\t|\t|\t\n",
      "    \t|    \t|    \n",
      "\t|\t|\t\n",
      "-------------------------\n",
      "\t|\t|\t\n",
      "   X\t|   X\t|    \n",
      "\t|\t|\t\n"
     ]
    }
   ],
   "source": [
    "#start real game \n",
    "symlocat = 1\n",
    "#win = False\n",
    "#while win == False:\n",
    "#Initate game order\n",
    "if whofirst == 'Player':\n",
    "    symlocat = int(input(\"Pick where you want to place your symbol (1-9)\"))\n",
    "    board[symlocat-1] = playersymbol\n",
    "    realgrid()\n",
    "else:\n",
    "    while board[symlocat-1] != ' ':\n",
    "        symlocat = random.randint(1,9) \n",
    "        board[symlocat-1] = compsymbol\n",
    "    realgrid()\n",
    "\n",
    "#================== REGULAR PLAY ==========\n",
    "goodspot = False\n",
    "def playermove():\n",
    "    goodspot = False\n",
    "    while goodspot == False:\n",
    "        symlocat = int(input(\"Pick where you want to place your symbol (1-9)\"))\n",
    "        if board[symlocat-1] == playersymbol or board[symlocat-1] == compsymbol:\n",
    "            print(\"That space is taken!, Pick somewhere else!\")\n",
    "        else:\n",
    "            board[symlocat-1] = playersymbol\n",
    "            goodspot = True\n",
    "            realgrid()\n",
    "#        board[symlocat-1] = compsymbol\n",
    " #   realgrid()\n",
    "  #  while board[symlocat-1] != ' ':\n",
    "   #     symlocat = random.randint(1,9) \n",
    "    #    board[symlocat-1] = compsymbol\n",
    "    #realgrid()"
   ]
  },
  {
   "cell_type": "code",
   "execution_count": 164,
   "metadata": {},
   "outputs": [],
   "source": [
    "# =========== REAL PLAYER MOVE ==========\n",
    "def playermove():\n",
    "    goodspot = False\n",
    "    while goodspot == False:\n",
    "        symlocat = int(input(\"Pick where you want to place your symbol (1-9)\"))\n",
    "        if board[symlocat-1] == playersymbol or board[symlocat-1] == compsymbol:\n",
    "            print(\"That space is taken!, Pick somewhere else!\")\n",
    "        else:\n",
    "            board[symlocat-1] = playersymbol\n",
    "            goodspot = True\n",
    "            realgrid()"
   ]
  },
  {
   "cell_type": "code",
   "execution_count": 166,
   "metadata": {},
   "outputs": [],
   "source": [
    "def compmove():\n",
    "    goodspot = False\n",
    "    while goodspot == False:\n",
    "        symlocat = random.randint(1,9)\n",
    "        if board[symlocat-1] == playersymbol or board[symlocat-1] == compsymbol:\n",
    "            goodspot = False\n",
    "        else:\n",
    "            goodspot = True\n",
    "            board[symlocat-1] = compsymbol\n",
    "            realgrid()"
   ]
  },
  {
   "cell_type": "code",
   "execution_count": 163,
   "metadata": {},
   "outputs": [
    {
     "name": "stdout",
     "output_type": "stream",
     "text": [
      "Pick where you want to place your symbol (1-9)1\n",
      "\t|\t|\t\n",
      "    \t|    \t|    \n",
      "\t|\t|\t\n",
      "-------------------------\n",
      "\t|\t|\t\n",
      "    \t|    \t|    \n",
      "\t|\t|\t\n",
      "-------------------------\n",
      "\t|\t|\t\n",
      "   X\t|    \t|    \n",
      "\t|\t|\t\n"
     ]
    }
   ],
   "source": [
    "playermove()"
   ]
  },
  {
   "cell_type": "code",
   "execution_count": 174,
   "metadata": {},
   "outputs": [
    {
     "name": "stdout",
     "output_type": "stream",
     "text": [
      "\t|\t|\t\n",
      "   O\t|   O\t|   O\n",
      "\t|\t|\t\n",
      "-------------------------\n",
      "\t|\t|\t\n",
      "   O\t|   O\t|   O\n",
      "\t|\t|\t\n",
      "-------------------------\n",
      "\t|\t|\t\n",
      "   X\t|   O\t|   O\n",
      "\t|\t|\t\n"
     ]
    }
   ],
   "source": [
    "compmove()"
   ]
  },
  {
   "cell_type": "code",
   "execution_count": 10,
   "metadata": {},
   "outputs": [
    {
     "ename": "NameError",
     "evalue": "name 'board' is not defined",
     "output_type": "error",
     "traceback": [
      "\u001b[0;31m---------------------------------------------------------------------------\u001b[0m",
      "\u001b[0;31mNameError\u001b[0m                                 Traceback (most recent call last)",
      "\u001b[0;32m<ipython-input-10-251acfcaac18>\u001b[0m in \u001b[0;36m<module>\u001b[0;34m()\u001b[0m\n\u001b[1;32m     13\u001b[0m     (board[8] == le and board[4] == le and board[0] == le)) # diagonal\n\u001b[1;32m     14\u001b[0m \u001b[0;31m#player win\u001b[0m\u001b[0;34m\u001b[0m\u001b[0;34m\u001b[0m\u001b[0m\n\u001b[0;32m---> 15\u001b[0;31m \u001b[0mpwin\u001b[0m \u001b[0;34m=\u001b[0m \u001b[0misWinner\u001b[0m\u001b[0;34m(\u001b[0m\u001b[0mboard\u001b[0m\u001b[0;34m,\u001b[0m \u001b[0mplayersymbol\u001b[0m\u001b[0;34m)\u001b[0m\u001b[0;34m\u001b[0m\u001b[0m\n\u001b[0m\u001b[1;32m     16\u001b[0m \u001b[0;31m#computer win\u001b[0m\u001b[0;34m\u001b[0m\u001b[0;34m\u001b[0m\u001b[0m\n\u001b[1;32m     17\u001b[0m \u001b[0mcwin\u001b[0m \u001b[0;34m=\u001b[0m \u001b[0;34m(\u001b[0m\u001b[0misWinner\u001b[0m\u001b[0;34m(\u001b[0m\u001b[0mboard\u001b[0m\u001b[0;34m,\u001b[0m \u001b[0mcompsymbol\u001b[0m\u001b[0;34m)\u001b[0m\u001b[0;34m)\u001b[0m\u001b[0;34m\u001b[0m\u001b[0m\n",
      "\u001b[0;31mNameError\u001b[0m: name 'board' is not defined"
     ]
    }
   ],
   "source": [
    "# ========== WIN TEST ===========\n",
    "# Win combinations:\n",
    "def isWinner(board, le):\n",
    "    # Given a board and a player's letter, this function returns True if that player has won.\n",
    "    # We use bo instead of board and le instead of letter so we don't have to type as much.\n",
    "    return ((board[6] == le and board[7] == le and board[8] == le) or # across the top\n",
    "    (board[3] == le and board[4] == le and board[5] == le) or # across the middle\n",
    "    (board[0] == le and board[1] == le and board[2] == le) or # across the bottom\n",
    "    (board[6] == le and board[3] == le and board[0] == le) or # down the left side\n",
    "    (board[7] == le and board[4] == le and board[1] == le) or # down the middle\n",
    "    (board[8] == le and board[5] == le and board[2] == le) or # down the right side\n",
    "    (board[6] == le and board[4] == le and board[2] == le) or # diagonal\n",
    "    (board[8] == le and board[4] == le and board[0] == le)) # diagonal\n",
    "#player win\n",
    "pwin = isWinner(board, playersymbol)\n",
    "#computer win\n",
    "cwin = (isWinner(board, compsymbol))\n",
    "#Statement\n",
    "print(\"Player win = {}, Computer win = {}\".format(pwin,cwin))"
   ]
  },
  {
   "cell_type": "code",
   "execution_count": null,
   "metadata": {},
   "outputs": [],
   "source": [
    "# ✕"
   ]
  },
  {
   "cell_type": "markdown",
   "metadata": {},
   "source": [
    "# Final code with functions"
   ]
  },
  {
   "cell_type": "code",
   "execution_count": 3,
   "metadata": {
    "hide_input": true
   },
   "outputs": [
    {
     "name": "stdout",
     "output_type": "stream",
     "text": [
      "You will play with numbers. This is how your number corresponds to the grid:\n",
      "\t│\t│\t\n",
      "   7\t│   8\t│   9\n",
      "\t|\t|\t\n",
      "-------------------------\n",
      "\t|\t|\t\n",
      "   4\t|   5\t|   6\n",
      "\t|\t|\t\n",
      "-------------------------\n",
      "\t|\t|\t\n",
      "   1\t|   2\t|   3\n",
      "\t|\t|\t\n",
      "\n",
      "\n",
      "Will you be '✕', or '◯'? X\n",
      "You are '✕'.\n",
      "The computer is '◯'.\n",
      "Computer goes first.\n",
      "\t|\t|\t\n",
      "    \t|   ◯\t|    \n",
      "\t|\t|\t\n",
      "-------------------------\n",
      "\t|\t|\t\n",
      "    \t|    \t|    \n",
      "\t|\t|\t\n",
      "-------------------------\n",
      "\t|\t|\t\n",
      "    \t|    \t|    \n",
      "\t|\t|\t\n",
      "\n",
      "\n",
      "Pick where you want to place your symbol (1-9)9\n",
      "\t|\t|\t\n",
      "    \t|   ◯\t|   ✕\n",
      "\t|\t|\t\n",
      "-------------------------\n",
      "\t|\t|\t\n",
      "    \t|    \t|    \n",
      "\t|\t|\t\n",
      "-------------------------\n",
      "\t|\t|\t\n",
      "    \t|    \t|    \n",
      "\t|\t|\t\n",
      "\n",
      "\n",
      "Computer's turn:\n",
      "\t|\t|\t\n",
      "    \t|   ◯\t|   ✕\n",
      "\t|\t|\t\n",
      "-------------------------\n",
      "\t|\t|\t\n",
      "    \t|    \t|   ◯\n",
      "\t|\t|\t\n",
      "-------------------------\n",
      "\t|\t|\t\n",
      "    \t|    \t|    \n",
      "\t|\t|\t\n",
      "\n",
      "\n",
      "Pick where you want to place your symbol (1-9)5\n",
      "\t|\t|\t\n",
      "    \t|   ◯\t|   ✕\n",
      "\t|\t|\t\n",
      "-------------------------\n",
      "\t|\t|\t\n",
      "    \t|   ✕\t|   ◯\n",
      "\t|\t|\t\n",
      "-------------------------\n",
      "\t|\t|\t\n",
      "    \t|    \t|    \n",
      "\t|\t|\t\n",
      "\n",
      "\n",
      "Computer's turn:\n",
      "\t|\t|\t\n",
      "    \t|   ◯\t|   ✕\n",
      "\t|\t|\t\n",
      "-------------------------\n",
      "\t|\t|\t\n",
      "    \t|   ✕\t|   ◯\n",
      "\t|\t|\t\n",
      "-------------------------\n",
      "\t|\t|\t\n",
      "   ◯\t|    \t|    \n",
      "\t|\t|\t\n",
      "\n",
      "\n",
      "Pick where you want to place your symbol (1-9)2\n",
      "\t|\t|\t\n",
      "    \t|   ◯\t|   ✕\n",
      "\t|\t|\t\n",
      "-------------------------\n",
      "\t|\t|\t\n",
      "    \t|   ✕\t|   ◯\n",
      "\t|\t|\t\n",
      "-------------------------\n",
      "\t|\t|\t\n",
      "   ◯\t|   ✕\t|    \n",
      "\t|\t|\t\n",
      "\n",
      "\n",
      "Computer's turn:\n",
      "\t|\t|\t\n",
      "    \t|   ◯\t|   ✕\n",
      "\t|\t|\t\n",
      "-------------------------\n",
      "\t|\t|\t\n",
      "   ◯\t|   ✕\t|   ◯\n",
      "\t|\t|\t\n",
      "-------------------------\n",
      "\t|\t|\t\n",
      "   ◯\t|   ✕\t|    \n",
      "\t|\t|\t\n",
      "\n",
      "\n",
      "Pick where you want to place your symbol (1-9)7\n",
      "\t|\t|\t\n",
      "   ✕\t|   ◯\t|   ✕\n",
      "\t|\t|\t\n",
      "-------------------------\n",
      "\t|\t|\t\n",
      "   ◯\t|   ✕\t|   ◯\n",
      "\t|\t|\t\n",
      "-------------------------\n",
      "\t|\t|\t\n",
      "   ◯\t|   ✕\t|    \n",
      "\t|\t|\t\n",
      "\n",
      "\n",
      "Computer's turn:\n",
      "\t|\t|\t\n",
      "   ✕\t|   ◯\t|   ✕\n",
      "\t|\t|\t\n",
      "-------------------------\n",
      "\t|\t|\t\n",
      "   ◯\t|   ✕\t|   ◯\n",
      "\t|\t|\t\n",
      "-------------------------\n",
      "\t|\t|\t\n",
      "   ◯\t|   ✕\t|   ◯\n",
      "\t|\t|\t\n",
      "\n",
      "\n",
      "It's a tie!\n"
     ]
    }
   ],
   "source": [
    "## print (\"Welcome to Tic Tac Toe!\")\n",
    "board = [' ',' ',' ',' ',' ',' ',' ',' ',' ']\n",
    "\n",
    "#no grid needed, use list index\n",
    "def tutgrid():\n",
    "    # This draws a grid\n",
    "    print('\\t│\\t│\\t\\n   {}\\t│   {}\\t│   {}\\n\\t|\\t|\\t'.format(7,8,9))\n",
    "    print(\"-------------------------\")\n",
    "    print('\\t|\\t|\\t\\n   {}\\t|   {}\\t|   {}\\n\\t|\\t|\\t'.format(4,5,6))\n",
    "    print(\"-------------------------\")\n",
    "    print('\\t|\\t|\\t\\n   {}\\t|   {}\\t|   {}\\n\\t|\\t|\\t\\n\\n'.format(1,2,3))\n",
    "print(\"You will play with numbers. This is how your number corresponds to the grid:\")\n",
    "tutgrid() \n",
    "\n",
    "# GRID\n",
    "#This is the function that draws a grid using the board list\n",
    "def realgrid():\n",
    "    # This draws a grid\n",
    "    print('\\t|\\t|\\t\\n   {}\\t|   {}\\t|   {}\\n\\t|\\t|\\t'.format(board[6],board[7],board[8]))\n",
    "    print(\"-------------------------\")\n",
    "    print('\\t|\\t|\\t\\n   {}\\t|   {}\\t|   {}\\n\\t|\\t|\\t'.format(board[3],board[4],board[5]))\n",
    "    print(\"-------------------------\")\n",
    "    print('\\t|\\t|\\t\\n   {}\\t|   {}\\t|   {}\\n\\t|\\t|\\t\\n\\n'.format(board[0],board[1],board[2])) \n",
    "\n",
    "# USER INTERACT\n",
    "def choosesymbol():\n",
    "    #character that isn't 'o' or 'x'\n",
    "    symbol = \"p\"\n",
    "    while symbol not in 'XO':\n",
    "        symbol = (input(\"Will you be \\'✕\\', or \\'◯\\'? \")).upper()\n",
    "        if symbol not in 'XO':\n",
    "            print(\"Invalid input: Please try again.\")\n",
    "    if symbol == 'X':\n",
    "        playersymbol = '✕'\n",
    "        compsymbol = '◯'\n",
    "        #check which symbol the player is\n",
    "    else:\n",
    "        playersymbol = '◯'\n",
    "        compsymbol = '✕'\n",
    "    return [playersymbol, compsymbol]\n",
    "\n",
    "#================ the INTRODUCTION ==========\n",
    "#code that must follow choosesymbol()\n",
    "thesymbols = choosesymbol()\n",
    "# playersymbol and compsymbol must be used here\n",
    "playersymbol = thesymbols[0]\n",
    "compsymbol = thesymbols[1]\n",
    "print('You are \\'{}\\'.\\nThe computer is \\'{}\\'.'.format(playersymbol, compsymbol))\n",
    "\n",
    "\n",
    "\n",
    "# ==================== CHOOSE STARTING PLAYER =====================\n",
    "import random\n",
    "def chooseplayer():\n",
    "    whofirst = random.choice(['Player', 'Computer'])\n",
    "    return whofirst\n",
    "whofirst = chooseplayer()\n",
    "print (\"{} goes first.\".format(whofirst))\n",
    "# whofirst holds value of starting player.\n",
    "\n",
    "#==================== PLAYER MOVE DEFINE ===========================\n",
    "def playermove():\n",
    "    goodspot = False\n",
    "    while goodspot == False:\n",
    "        symlocat = int(input(\"Pick where you want to place your symbol (1-9)\"))\n",
    "        if board[symlocat-1] == playersymbol or board[symlocat-1] == compsymbol:\n",
    "            print(\"That space is taken!, Pick somewhere else!\")\n",
    "        else:\n",
    "            board[symlocat-1] = playersymbol\n",
    "            goodspot = True\n",
    "            realgrid()\n",
    "        \n",
    "#==================== COMPUTER MOVE DEFINE===========================\n",
    "def compmove():\n",
    "    goodspot = False\n",
    "    while goodspot == False:\n",
    "        symlocat = random.randint(1,9)\n",
    "        if board[symlocat-1] == playersymbol or board[symlocat-1] == compsymbol:\n",
    "            goodspot = False\n",
    "        else:\n",
    "            goodspot = True\n",
    "            board[symlocat-1] = compsymbol\n",
    "            realgrid()\n",
    "\n",
    "# ==================== WIN CONDITION CHECKER DEFINED ==========================\n",
    "def checkwinner(board, le):\n",
    "    # Given a board and a player's letter, this function returns True if that player has won.\n",
    "    # We use bo instead of board and le instead of letter so we don't have to type as much.\n",
    "    return ((board[6] == le and board[7] == le and board[8] == le) or # across the top\n",
    "    (board[3] == le and board[4] == le and board[5] == le) or # across the middle\n",
    "    (board[0] == le and board[1] == le and board[2] == le) or # across the bottom\n",
    "    (board[6] == le and board[3] == le and board[0] == le) or # down the left side\n",
    "    (board[7] == le and board[4] == le and board[1] == le) or # down the middle\n",
    "    (board[8] == le and board[5] == le and board[2] == le) or # down the right side\n",
    "    (board[6] == le and board[4] == le and board[2] == le) or # diagonal\n",
    "    (board[8] == le and board[4] == le and board[0] == le)) # diagonal\n",
    "def wincheckp():\n",
    "    return checkwinner(board, playersymbol)\n",
    "def wincheckc():\n",
    "    return checkwinner(board, compsymbol)\n",
    "\n",
    "#============================== Tie checker def==============================\n",
    "def tiecheck():\n",
    "    tally = 0\n",
    "    for i in board:\n",
    "        if i != ' ':\n",
    "            tally += 1\n",
    "    if tally == 9:\n",
    "        return True\n",
    "    else:\n",
    "        return False\n",
    "#========================= START THE REAL GAME ======================\n",
    "if whofirst == 'Player':\n",
    "    playermove()\n",
    "else:\n",
    "    compmove()\n",
    "        \n",
    "#========================== CONTINUOUS PLAY WITH A CHECK FOR WIN AT THE ENDS ============\n",
    "#===================================== or REGULAR PLAY LOOP =============================\n",
    "win = False\n",
    "while win == False:\n",
    "    tie = tiecheck()\n",
    "    if tie == True:\n",
    "        print(\"It's a tie!\")\n",
    "        win = True\n",
    "    elif whofirst == 'Player':\n",
    "        print(\"Computer's turn:\")\n",
    "        compmove()\n",
    "        winny = wincheckc()\n",
    "        if winny == True:\n",
    "            print (\"You lose!\")\n",
    "            win = True\n",
    "        #elif tie == True:\n",
    "        #    print(\"It's a tie!\")\n",
    "        #    win = True\n",
    "        else:\n",
    "            print(\"Your turn:\")\n",
    "            playermove()\n",
    "            winny = wincheckp()\n",
    "            if winny == True:\n",
    "                print(\"You win!\")\n",
    "                win = True\n",
    "    else:\n",
    "        playermove()\n",
    "        winny = wincheckp()\n",
    "        if winny == True:\n",
    "            print(\"You win!\")\n",
    "            win = True\n",
    "        #elif tie == True:\n",
    "        #    print(\"It's a tie!\")\n",
    "        #    win = True\n",
    "        else:\n",
    "            print(\"Computer's turn:\")\n",
    "            compmove()\n",
    "            winny = wincheckc()\n",
    "            if winny == True:\n",
    "                print(\"You lose!\")\n",
    "                win = True\n",
    "            \n",
    "    \n"
   ]
  },
  {
   "cell_type": "code",
   "execution_count": null,
   "metadata": {},
   "outputs": [],
   "source": [
    "tiecheck()"
   ]
  },
  {
   "cell_type": "code",
   "execution_count": null,
   "metadata": {},
   "outputs": [],
   "source": [
    "win = False\n",
    "while win == False:\n",
    "    if whofirst == 'Player':\n",
    "        compmove()\n",
    "    else:\n",
    "        playermove()\n",
    "        tie = tiecheck()\n",
    "        winny = wincheckp()\n",
    "        if tie == True:\n",
    "            print(\"It's a tie!\")\n",
    "            win = True\n",
    "        elif winny == True:\n",
    "            print(\"You win!\")\n",
    "            win = True\n",
    "        else:\n",
    "            compmove()\n",
    "            winny = wincheckc()\n",
    "            if winny == True:\n",
    "                print (\"You lose!\")\n",
    "                win = True"
   ]
  }
 ],
 "metadata": {
  "kernelspec": {
   "display_name": "Python 3",
   "language": "python",
   "name": "python3"
  },
  "language_info": {
   "codemirror_mode": {
    "name": "ipython",
    "version": 3
   },
   "file_extension": ".py",
   "mimetype": "text/x-python",
   "name": "python",
   "nbconvert_exporter": "python",
   "pygments_lexer": "ipython3",
   "version": "3.5.2"
  }
 },
 "nbformat": 4,
 "nbformat_minor": 2
}
